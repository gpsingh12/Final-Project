{
 "cells": [
  {
   "cell_type": "markdown",
   "metadata": {
    "nbpresent": {
     "id": "38d41890-27f5-4e5a-a8f2-d184a66f7514"
    }
   },
   "source": [
    "## Gurpreet Singh\n",
    "\n",
    "### IS 602:  Advanced Programming Techniques"
   ]
  },
  {
   "cell_type": "markdown",
   "metadata": {
    "nbpresent": {
     "id": "7f3cd88c-b75a-4cb0-a747-5c4fb6dd9065"
    }
   },
   "source": [
    "## <font color='red'>  NEW YORK CITY Crime Hotspot Prediction and Analysis of Crime Data</font> </h3> "
   ]
  },
  {
   "cell_type": "markdown",
   "metadata": {
    "nbpresent": {
     "id": "2003ca64-c758-4ae6-aefb-2e96e729a431"
    }
   },
   "source": [
    "### Sections\n",
    "\n",
    "*  [Abstract](#Abstract)\n",
    "\n",
    "\n",
    "*  [Required Libraries](#Installing the required libraries)\n",
    "\n",
    "\n",
    "*  [Data Collection](#Data Collection and Manipulation)\n",
    "\n",
    "\n",
    "*  [Data Analysis](#Data Analysis)\n",
    "    * [Chi-square test of Independence](#Chi-square)\n",
    "    * [Correlation](#Correlation)\n",
    "    * [Splitting into crime zones](#zones)\n",
    "\n",
    "\n",
    "*  [Predictive Analysis](#Predictive Analysis)\n",
    "\n",
    "    * [Splitting the Dataset into training and testing](#Split Data)\n",
    "    \n",
    "    * [Fitting the Random Forest Model](#RFR)\n",
    "    \n",
    "    * [Predictied Dataset](#Pred Data)\n",
    "    \n",
    "    * [Reverse Lookup of Locations](#Lookup)\n",
    "    \n",
    "\n",
    "\n",
    "*  [Data Visualization](#Data Visualization)\n",
    "\n",
    "\n",
    "*  [Conclusion](#Conclusion)\n",
    "\n",
    "\n",
    "*  [Further Reading and Analysis](#Further Reading)\n",
    "\n",
    "\n",
    "*  [Refrences](#Refrences)\n",
    "\n"
   ]
  },
  {
   "cell_type": "markdown",
   "metadata": {
    "nbpresent": {
     "id": "0393e8fe-c6cb-48d8-afcb-9c94f854a162"
    }
   },
   "source": [
    "# Abstract: \n",
    "Analysis of crime data in predicting crime hotspots is successfully established and implemented in various police departments all over the world. Continuation of crime data collection,  hotspot monitoring allows for advancement and improvement in data collection methods and enhancing the algorithms provides improvement and accuracy in existing algorithms. Algorithms are needed to be updated continuously as more and more data become available.Crime hotspots depicts valuable information to the extent that criminals repeatedly using same modus operandi for committing crimes, or they are involved in a particular crime in the area of high crime risk for a specific crime"
   ]
  },
  {
   "cell_type": "markdown",
   "metadata": {
    "nbpresent": {
     "id": "6773e265-b0f2-4faa-a56e-16c280c49200"
    }
   },
   "source": [
    "### Installing the required libraries<a id='Installing the required libraries'></a>"
   ]
  },
  {
   "cell_type": "code",
   "execution_count": 1,
   "metadata": {
    "collapsed": false,
    "nbpresent": {
     "id": "5ac62751-aab5-4dea-81c4-4711bf505f15"
    }
   },
   "outputs": [],
   "source": [
    "import csv\n",
    "import sys\n",
    "import urllib\n",
    "import numpy as np\n",
    "import pandas as pd\n",
    "import scipy\n",
    "import math\n",
    "import scipy.stats\n",
    "import datetime\n",
    "import random\n",
    "import matplotlib\n",
    "from scipy.stats import chi2_contingency\n",
    "import matplotlib.pyplot as plt\n",
    "import matplotlib.lines as ml\n",
    "from sklearn.cross_validation import train_test_split\n",
    "from sklearn.ensemble import RandomForestRegressor\n",
    "from sklearn.linear_model import LogisticRegression\n",
    "from sklearn.metrics import mean_squared_error\n",
    "\n",
    "sys.path.append('C:\\\\Python27\\\\lib\\\\site-packages')\n",
    "import geopandas as gpd\n",
    "import geopy\n",
    "from geopy.geocoders import Nominatim\n",
    "from IPython.display import HTML, display\n",
    "\n"
   ]
  },
  {
   "cell_type": "markdown",
   "metadata": {
    "nbpresent": {
     "id": "1d31372e-e407-4209-8f81-0afaaab2449d"
    }
   },
   "source": [
    "# Data Collection and Manipulation:<a id='Data Collection and Manipulation'></a>"
   ]
  },
  {
   "cell_type": "markdown",
   "metadata": {
    "collapsed": true,
    "nbpresent": {
     "id": "b41925f1-3e9e-49e5-bf1a-d940b1faef7e"
    }
   },
   "source": [
    "Data collection is performed using open data source data.gov.The dataset consists of quarterly update of  Major Felonies \n",
    "at the incident level.The felonies included are Burglary, Grand Larceny, Rape,Grand Larceny of Motor Vehicles, Robbery, \n",
    "Felony Assault.The data is recorded in CompStat (short for Computer Statistics). Detailed Information about CompStat can be\n",
    "found [here](https://en.wikipedia.org/wiki/CompStat). We will drop the fields CompStat Day, month and year from our dataset.\n",
    "The location coordinates of the incident are tracked and recorded in database. Location will be splitted into Longitudes and latitudes for prediction.\n",
    "Crimes are separated by boroughs, sectors,further into precincts in New York City. Occurrence date in the dataset is \n",
    "converted into timestamp.\n",
    "Additional information about the data can be found [here](https://catalog.data.gov/dataset/nypd-7-major-felony-incidents)\n"
   ]
  },
  {
   "cell_type": "code",
   "execution_count": 3,
   "metadata": {
    "collapsed": false,
    "nbpresent": {
     "id": "5f1b739f-cc5f-49f3-ac0f-df015a550d85"
    }
   },
   "outputs": [],
   "source": [
    "df =pd.read_csv('C:\\\\Users\\\\Gurpreet\\\\Documents\\\\IS602\\\\historical_crimedata.csv')\n"
   ]
  },
  {
   "cell_type": "markdown",
   "metadata": {
    "nbpresent": {
     "id": "0dbac0f5-b51f-48c4-93b0-a8afbb2345b1"
    }
   },
   "source": [
    "#### Structure of the dataset"
   ]
  },
  {
   "cell_type": "code",
   "execution_count": 4,
   "metadata": {
    "collapsed": false,
    "nbpresent": {
     "id": "5bb5f139-fb13-44ff-aab5-f1069b01f68c"
    }
   },
   "outputs": [
    {
     "data": {
      "text/plain": [
       "(1048575, 17)"
      ]
     },
     "execution_count": 4,
     "metadata": {},
     "output_type": "execute_result"
    }
   ],
   "source": [
    "df.shape"
   ]
  },
  {
   "cell_type": "code",
   "execution_count": 5,
   "metadata": {
    "collapsed": true,
    "nbpresent": {
     "id": "21ede77b-2951-486d-a3e4-3a6329e7ea4e"
    }
   },
   "outputs": [],
   "source": [
    "df = df.dropna(axis=0,how='any',inplace=False) #cleaning the data by removing nan values\n",
    "df=df.query('Borough != \"(null)\"')\n",
    "\n",
    "split_data = df[\"Location 1\"].str.strip(')').str.strip('(').str.split(', ') \n",
    "# splitting Location variable into latitudes and longitudes\n",
    "df['Latitude'] = split_data.apply(lambda x: x[0])\n",
    "df['Longitude'] = split_data.apply(lambda x: x[1])\n",
    "df['Latitude'] =df['Latitude'].astype(float)\n",
    "df['Longitude'] =df['Longitude'].astype(float)\n"
   ]
  },
  {
   "cell_type": "code",
   "execution_count": 6,
   "metadata": {
    "collapsed": false,
    "nbpresent": {
     "id": "4bf406c7-93f7-48aa-92f3-ce705f31e61e"
    }
   },
   "outputs": [
    {
     "data": {
      "text/html": [
       "<div>\n",
       "<table border=\"1\" class=\"dataframe\">\n",
       "  <thead>\n",
       "    <tr style=\"text-align: right;\">\n",
       "      <th></th>\n",
       "      <th>OBJECTID</th>\n",
       "      <th>Occurrence Date</th>\n",
       "      <th>Day of Week</th>\n",
       "      <th>Occurrence Month</th>\n",
       "      <th>Occurrence Day</th>\n",
       "      <th>Occurrence Year</th>\n",
       "      <th>Occurrence Hour</th>\n",
       "      <th>CompStat Month</th>\n",
       "      <th>CompStat Day</th>\n",
       "      <th>CompStat Year</th>\n",
       "      <th>Offense</th>\n",
       "      <th>Sector</th>\n",
       "      <th>Precinct</th>\n",
       "      <th>Borough</th>\n",
       "      <th>XCoordinate</th>\n",
       "      <th>YCoordinate</th>\n",
       "      <th>Location 1</th>\n",
       "      <th>Latitude</th>\n",
       "      <th>Longitude</th>\n",
       "    </tr>\n",
       "  </thead>\n",
       "  <tbody>\n",
       "    <tr>\n",
       "      <th>0</th>\n",
       "      <td>1</td>\n",
       "      <td>9/6/1940 19:30</td>\n",
       "      <td>Friday</td>\n",
       "      <td>Sep</td>\n",
       "      <td>6.0</td>\n",
       "      <td>1940.0</td>\n",
       "      <td>19.0</td>\n",
       "      <td>9</td>\n",
       "      <td>7</td>\n",
       "      <td>2010</td>\n",
       "      <td>BURGLARY</td>\n",
       "      <td>D</td>\n",
       "      <td>66.0</td>\n",
       "      <td>BROOKLYN</td>\n",
       "      <td>987478</td>\n",
       "      <td>166141</td>\n",
       "      <td>(40.6227027620001, -73.9883732929999)</td>\n",
       "      <td>40.622703</td>\n",
       "      <td>-73.988373</td>\n",
       "    </tr>\n",
       "    <tr>\n",
       "      <th>1</th>\n",
       "      <td>2</td>\n",
       "      <td>12/14/1968 0:20</td>\n",
       "      <td>Saturday</td>\n",
       "      <td>Dec</td>\n",
       "      <td>14.0</td>\n",
       "      <td>1968.0</td>\n",
       "      <td>0.0</td>\n",
       "      <td>12</td>\n",
       "      <td>14</td>\n",
       "      <td>2008</td>\n",
       "      <td>GRAND LARCENY</td>\n",
       "      <td>G</td>\n",
       "      <td>28.0</td>\n",
       "      <td>MANHATTAN</td>\n",
       "      <td>996470</td>\n",
       "      <td>232106</td>\n",
       "      <td>(40.8037530600001, -73.955861904)</td>\n",
       "      <td>40.803753</td>\n",
       "      <td>-73.955862</td>\n",
       "    </tr>\n",
       "    <tr>\n",
       "      <th>2</th>\n",
       "      <td>3</td>\n",
       "      <td>10/30/1970 15:30</td>\n",
       "      <td>Friday</td>\n",
       "      <td>Oct</td>\n",
       "      <td>30.0</td>\n",
       "      <td>1970.0</td>\n",
       "      <td>15.0</td>\n",
       "      <td>10</td>\n",
       "      <td>31</td>\n",
       "      <td>2008</td>\n",
       "      <td>BURGLARY</td>\n",
       "      <td>H</td>\n",
       "      <td>84.0</td>\n",
       "      <td>BROOKLYN</td>\n",
       "      <td>986508</td>\n",
       "      <td>190249</td>\n",
       "      <td>(40.688874254, -73.9918594329999)</td>\n",
       "      <td>40.688874</td>\n",
       "      <td>-73.991859</td>\n",
       "    </tr>\n",
       "    <tr>\n",
       "      <th>3</th>\n",
       "      <td>4</td>\n",
       "      <td>7/18/1972 23:00</td>\n",
       "      <td>Tuesday</td>\n",
       "      <td>Jul</td>\n",
       "      <td>18.0</td>\n",
       "      <td>1972.0</td>\n",
       "      <td>23.0</td>\n",
       "      <td>7</td>\n",
       "      <td>19</td>\n",
       "      <td>2012</td>\n",
       "      <td>GRAND LARCENY OF MOTOR VEHICLE</td>\n",
       "      <td>F</td>\n",
       "      <td>73.0</td>\n",
       "      <td>BROOKLYN</td>\n",
       "      <td>1005876</td>\n",
       "      <td>182440</td>\n",
       "      <td>(40.6674141890001, -73.9220463899999)</td>\n",
       "      <td>40.667414</td>\n",
       "      <td>-73.922046</td>\n",
       "    </tr>\n",
       "    <tr>\n",
       "      <th>4</th>\n",
       "      <td>5</td>\n",
       "      <td>5/21/1987 0:01</td>\n",
       "      <td>Thursday</td>\n",
       "      <td>May</td>\n",
       "      <td>21.0</td>\n",
       "      <td>1987.0</td>\n",
       "      <td>0.0</td>\n",
       "      <td>5</td>\n",
       "      <td>28</td>\n",
       "      <td>2009</td>\n",
       "      <td>GRAND LARCENY</td>\n",
       "      <td>K</td>\n",
       "      <td>75.0</td>\n",
       "      <td>BROOKLYN</td>\n",
       "      <td>1017958</td>\n",
       "      <td>182266</td>\n",
       "      <td>(40.6668988440001, -73.878495425)</td>\n",
       "      <td>40.666899</td>\n",
       "      <td>-73.878495</td>\n",
       "    </tr>\n",
       "  </tbody>\n",
       "</table>\n",
       "</div>"
      ],
      "text/plain": [
       "   OBJECTID   Occurrence Date Day of Week Occurrence Month  Occurrence Day  \\\n",
       "0         1    9/6/1940 19:30      Friday              Sep             6.0   \n",
       "1         2   12/14/1968 0:20    Saturday              Dec            14.0   \n",
       "2         3  10/30/1970 15:30      Friday              Oct            30.0   \n",
       "3         4   7/18/1972 23:00     Tuesday              Jul            18.0   \n",
       "4         5    5/21/1987 0:01    Thursday              May            21.0   \n",
       "\n",
       "   Occurrence Year  Occurrence Hour  CompStat Month  CompStat Day  \\\n",
       "0           1940.0             19.0               9             7   \n",
       "1           1968.0              0.0              12            14   \n",
       "2           1970.0             15.0              10            31   \n",
       "3           1972.0             23.0               7            19   \n",
       "4           1987.0              0.0               5            28   \n",
       "\n",
       "   CompStat Year                         Offense Sector  Precinct    Borough  \\\n",
       "0           2010                        BURGLARY      D      66.0   BROOKLYN   \n",
       "1           2008                   GRAND LARCENY      G      28.0  MANHATTAN   \n",
       "2           2008                        BURGLARY      H      84.0   BROOKLYN   \n",
       "3           2012  GRAND LARCENY OF MOTOR VEHICLE      F      73.0   BROOKLYN   \n",
       "4           2009                   GRAND LARCENY      K      75.0   BROOKLYN   \n",
       "\n",
       "   XCoordinate  YCoordinate                             Location 1   Latitude  \\\n",
       "0       987478       166141  (40.6227027620001, -73.9883732929999)  40.622703   \n",
       "1       996470       232106      (40.8037530600001, -73.955861904)  40.803753   \n",
       "2       986508       190249      (40.688874254, -73.9918594329999)  40.688874   \n",
       "3      1005876       182440  (40.6674141890001, -73.9220463899999)  40.667414   \n",
       "4      1017958       182266      (40.6668988440001, -73.878495425)  40.666899   \n",
       "\n",
       "   Longitude  \n",
       "0 -73.988373  \n",
       "1 -73.955862  \n",
       "2 -73.991859  \n",
       "3 -73.922046  \n",
       "4 -73.878495  "
      ]
     },
     "execution_count": 6,
     "metadata": {},
     "output_type": "execute_result"
    }
   ],
   "source": [
    "df.head()"
   ]
  },
  {
   "cell_type": "markdown",
   "metadata": {
    "collapsed": false,
    "nbpresent": {
     "id": "f78c5910-abdc-420a-b73a-1482bf978e96"
    }
   },
   "source": [
    "DataFrame df is splitted into two dataframes for algorithm and analysis"
   ]
  },
  {
   "cell_type": "code",
   "execution_count": 7,
   "metadata": {
    "collapsed": true,
    "nbpresent": {
     "id": "25828487-a96f-4491-9d60-5483bfaadc14"
    }
   },
   "outputs": [],
   "source": [
    "df1=df.drop([\"CompStat Day\",\"CompStat Month\", \"CompStat Year\"],axis=1)\n",
    "data=df.drop([\"Occurrence Year\",\"CompStat Day\",\"CompStat Month\", \"CompStat Year\"],axis=1)"
   ]
  },
  {
   "cell_type": "markdown",
   "metadata": {
    "collapsed": true,
    "nbpresent": {
     "id": "a75ac093-b494-485c-95c4-5e70dcc9eca3"
    }
   },
   "source": [
    "# Data Analysis :<a id='Data Analysis'></a>"
   ]
  },
  {
   "cell_type": "markdown",
   "metadata": {
    "nbpresent": {
     "id": "1d3feb88-37bc-402f-820b-084ba8e36515"
    }
   },
   "source": [
    "The dataset for analysis will be grouped by the counts of crime and Location coordinates (longitudes and latitudes).\n",
    "Dataset data_borough provides an overview of occurrence of crime incidents in boroughs that is the distribution of crime count in boroughs irrespective of the type of offenses.\n",
    "Dataset data_offense is grouped by location coordinates, the count provides the occurrence of specific crime at a specific location. "
   ]
  },
  {
   "cell_type": "code",
   "execution_count": 8,
   "metadata": {
    "collapsed": false,
    "nbpresent": {
     "id": "4019fd94-95b0-4fdc-9ae1-e1317339cc39"
    }
   },
   "outputs": [],
   "source": [
    "data_borough=data.groupby(['Borough']).size().reset_index(name='count')\n",
    "data_precinct=data.groupby(['Precinct']).size().reset_index(name='count')\n",
    "data_offense=data.groupby(['Borough', 'Offense', 'Latitude','Longitude']).size().reset_index(name='count')"
   ]
  },
  {
   "cell_type": "raw",
   "metadata": {
    "collapsed": false,
    "nbpresent": {
     "id": "22f2ca77-4a58-4236-87cd-cf285b432982"
    }
   },
   "source": [
    "data_borough=pd.DataFrame(data_borough)\n",
    "data_offense=pd.DataFrame(data_offense)"
   ]
  },
  {
   "cell_type": "markdown",
   "metadata": {
    "collapsed": false,
    "nbpresent": {
     "id": "aa04f795-2559-4e21-9dad-1bb606327bf7"
    }
   },
   "source": [
    "#### Independence and Association between variables\n",
    " I will create a crosstab for data_offense to check the dependence of offenses in the boroughs. Chi square test\n",
    " of independence will be applied to test the independence.\n"
   ]
  },
  {
   "cell_type": "code",
   "execution_count": 9,
   "metadata": {
    "collapsed": false,
    "nbpresent": {
     "id": "ab36d10d-1c4e-4f8b-a472-f7cd81e715a0"
    }
   },
   "outputs": [
    {
     "data": {
      "text/html": [
       "<div>\n",
       "<table border=\"1\" class=\"dataframe\">\n",
       "  <thead>\n",
       "    <tr style=\"text-align: right;\">\n",
       "      <th></th>\n",
       "      <th>BURGLARY</th>\n",
       "      <th>FELONY ASSAULT</th>\n",
       "      <th>GRAND LARCENY</th>\n",
       "      <th>GRAND LARCENY OF MOTOR VEHICLE</th>\n",
       "      <th>RAPE</th>\n",
       "      <th>ROBBERY</th>\n",
       "    </tr>\n",
       "  </thead>\n",
       "  <tbody>\n",
       "    <tr>\n",
       "      <th>BRONX</th>\n",
       "      <td>7054</td>\n",
       "      <td>7830</td>\n",
       "      <td>9797</td>\n",
       "      <td>8510</td>\n",
       "      <td>12</td>\n",
       "      <td>9011</td>\n",
       "    </tr>\n",
       "    <tr>\n",
       "      <th>BROOKLYN</th>\n",
       "      <td>14194</td>\n",
       "      <td>13643</td>\n",
       "      <td>20538</td>\n",
       "      <td>14553</td>\n",
       "      <td>23</td>\n",
       "      <td>16749</td>\n",
       "    </tr>\n",
       "    <tr>\n",
       "      <th>MANHATTAN</th>\n",
       "      <td>5676</td>\n",
       "      <td>6000</td>\n",
       "      <td>9142</td>\n",
       "      <td>4625</td>\n",
       "      <td>22</td>\n",
       "      <td>7129</td>\n",
       "    </tr>\n",
       "    <tr>\n",
       "      <th>QUEENS</th>\n",
       "      <td>16528</td>\n",
       "      <td>12371</td>\n",
       "      <td>21789</td>\n",
       "      <td>16665</td>\n",
       "      <td>16</td>\n",
       "      <td>14987</td>\n",
       "    </tr>\n",
       "    <tr>\n",
       "      <th>STATEN ISLAND</th>\n",
       "      <td>3513</td>\n",
       "      <td>2222</td>\n",
       "      <td>4671</td>\n",
       "      <td>2440</td>\n",
       "      <td>4</td>\n",
       "      <td>2068</td>\n",
       "    </tr>\n",
       "  </tbody>\n",
       "</table>\n",
       "</div>"
      ],
      "text/plain": [
       "               BURGLARY  FELONY ASSAULT  GRAND LARCENY  \\\n",
       "BRONX              7054            7830           9797   \n",
       "BROOKLYN          14194           13643          20538   \n",
       "MANHATTAN          5676            6000           9142   \n",
       "QUEENS            16528           12371          21789   \n",
       "STATEN ISLAND      3513            2222           4671   \n",
       "\n",
       "               GRAND LARCENY OF MOTOR VEHICLE  RAPE  ROBBERY  \n",
       "BRONX                                    8510    12     9011  \n",
       "BROOKLYN                                14553    23    16749  \n",
       "MANHATTAN                                4625    22     7129  \n",
       "QUEENS                                  16665    16    14987  \n",
       "STATEN ISLAND                            2440     4     2068  "
      ]
     },
     "execution_count": 9,
     "metadata": {},
     "output_type": "execute_result"
    }
   ],
   "source": [
    "data_offense_ind=data_offense[['Borough','Offense','count']]\n",
    "\n",
    "crosstab=pd.crosstab(data_offense_ind['Borough'], data_offense_ind['Offense'],margins=True)\n",
    "\n",
    "crosstab.columns = [\"BURGLARY\",\"FELONY ASSAULT\",\"GRAND LARCENY\",\"GRAND LARCENY OF MOTOR VEHICLE\",\"RAPE\",\"ROBBERY\",\"Row Total\"]\n",
    "crosstab.index= [\"BRONX\",\"BROOKLYN\",\"MANHATTAN\",\"QUEENS\",\"STATEN ISLAND\",\"Column Total\"]\n",
    "\n",
    "observed = crosstab.ix[0:5,0:6] \n",
    "observed"
   ]
  },
  {
   "cell_type": "markdown",
   "metadata": {
    "nbpresent": {
     "id": "7ad7cf78-bbae-46a1-a60e-e56eec75e8bd"
    }
   },
   "source": [
    "#### Chi-square test of Independence :<a id='Chi-square'></a>"
   ]
  },
  {
   "cell_type": "code",
   "execution_count": 10,
   "metadata": {
    "collapsed": false,
    "nbpresent": {
     "id": "1bfe653a-2f15-4f8b-93f2-885c8c901b6c"
    }
   },
   "outputs": [
    {
     "data": {
      "text/plain": [
       "(2216.3612179637157,\n",
       " 0.0,\n",
       " 20,\n",
       " array([[  7.87419478e+03,   7.05282397e+03,   1.10550576e+04,\n",
       "           7.84535710e+03,   1.29098903e+01,   8.37365664e+03],\n",
       "        [  1.48664738e+04,   1.33157263e+04,   2.08719404e+04,\n",
       "           1.48120283e+04,   2.43738631e+01,   1.58094574e+04],\n",
       "        [  6.07977222e+03,   5.44558072e+03,   8.53575942e+03,\n",
       "           6.05750626e+03,   9.96790080e+00,   6.46541348e+03],\n",
       "        [  1.53618985e+04,   1.37594725e+04,   2.15674972e+04,\n",
       "           1.53056386e+04,   2.51861213e+01,   1.63363071e+04],\n",
       "        [  2.78266067e+03,   2.49239655e+03,   3.90674538e+03,\n",
       "           2.77246973e+03,   4.56222446e+00,   2.95916544e+03]]))"
      ]
     },
     "execution_count": 10,
     "metadata": {},
     "output_type": "execute_result"
    }
   ],
   "source": [
    "#Null Hypothesis Ho  : Borough and Offense are independent\n",
    "#Alternate Hypothesis: Borough and Offense are dependent\n",
    "\n",
    "scipy.stats.chi2_contingency(observed= observed)\n"
   ]
  },
  {
   "cell_type": "markdown",
   "metadata": {
    "nbpresent": {
     "id": "c3a0df26-f54b-4cc1-a24c-9ca1a8ff896b"
    }
   },
   "source": [
    "The p-value is 0 with 20 degrees of freedom. it does not provide details about the dependence of boroughs and offense types.\n",
    "One possibility might be it is inappropriate to check independence using chi-square test of independence. However using \n",
    "manual technique to calculate p value using chi-square statistics yields p-value < 0.00001 providing enough evidence to \n",
    "reject null hypothesis. We can reject null hypothesis and consider two variables are dependent.\n",
    "For manual calculation of p-value using chi-square statistic please [click](http://www.socscistatistics.com/pvalues/chidistribution.aspx)\n"
   ]
  },
  {
   "cell_type": "markdown",
   "metadata": {
    "nbpresent": {
     "id": "51e16b1d-38fb-4c24-927c-6d817032de7d"
    }
   },
   "source": [
    "#### Correlation between Offenses:<a id='Correlation'></a>"
   ]
  },
  {
   "cell_type": "code",
   "execution_count": 11,
   "metadata": {
    "collapsed": false,
    "nbpresent": {
     "id": "a947ac19-d102-4ec9-98fa-f823dc32175b"
    }
   },
   "outputs": [
    {
     "data": {
      "text/html": [
       "<div>\n",
       "<table border=\"1\" class=\"dataframe\">\n",
       "  <thead>\n",
       "    <tr style=\"text-align: right;\">\n",
       "      <th></th>\n",
       "      <th>BURGLARY</th>\n",
       "      <th>FELONY ASSAULT</th>\n",
       "      <th>GRAND LARCENY</th>\n",
       "      <th>GRAND LARCENY OF MOTOR VEHICLE</th>\n",
       "      <th>RAPE</th>\n",
       "      <th>ROBBERY</th>\n",
       "    </tr>\n",
       "  </thead>\n",
       "  <tbody>\n",
       "    <tr>\n",
       "      <th>BURGLARY</th>\n",
       "      <td>1.000000</td>\n",
       "      <td>0.946335</td>\n",
       "      <td>0.993215</td>\n",
       "      <td>0.987334</td>\n",
       "      <td>0.517386</td>\n",
       "      <td>0.945346</td>\n",
       "    </tr>\n",
       "    <tr>\n",
       "      <th>FELONY ASSAULT</th>\n",
       "      <td>0.946335</td>\n",
       "      <td>1.000000</td>\n",
       "      <td>0.968690</td>\n",
       "      <td>0.963044</td>\n",
       "      <td>0.676950</td>\n",
       "      <td>0.999602</td>\n",
       "    </tr>\n",
       "    <tr>\n",
       "      <th>GRAND LARCENY</th>\n",
       "      <td>0.993215</td>\n",
       "      <td>0.968690</td>\n",
       "      <td>1.000000</td>\n",
       "      <td>0.978713</td>\n",
       "      <td>0.606481</td>\n",
       "      <td>0.969955</td>\n",
       "    </tr>\n",
       "    <tr>\n",
       "      <th>GRAND LARCENY OF MOTOR VEHICLE</th>\n",
       "      <td>0.987334</td>\n",
       "      <td>0.963044</td>\n",
       "      <td>0.978713</td>\n",
       "      <td>1.000000</td>\n",
       "      <td>0.491902</td>\n",
       "      <td>0.958541</td>\n",
       "    </tr>\n",
       "    <tr>\n",
       "      <th>RAPE</th>\n",
       "      <td>0.517386</td>\n",
       "      <td>0.676950</td>\n",
       "      <td>0.606481</td>\n",
       "      <td>0.491902</td>\n",
       "      <td>1.000000</td>\n",
       "      <td>0.693475</td>\n",
       "    </tr>\n",
       "    <tr>\n",
       "      <th>ROBBERY</th>\n",
       "      <td>0.945346</td>\n",
       "      <td>0.999602</td>\n",
       "      <td>0.969955</td>\n",
       "      <td>0.958541</td>\n",
       "      <td>0.693475</td>\n",
       "      <td>1.000000</td>\n",
       "    </tr>\n",
       "  </tbody>\n",
       "</table>\n",
       "</div>"
      ],
      "text/plain": [
       "                                BURGLARY  FELONY ASSAULT  GRAND LARCENY  \\\n",
       "BURGLARY                        1.000000        0.946335       0.993215   \n",
       "FELONY ASSAULT                  0.946335        1.000000       0.968690   \n",
       "GRAND LARCENY                   0.993215        0.968690       1.000000   \n",
       "GRAND LARCENY OF MOTOR VEHICLE  0.987334        0.963044       0.978713   \n",
       "RAPE                            0.517386        0.676950       0.606481   \n",
       "ROBBERY                         0.945346        0.999602       0.969955   \n",
       "\n",
       "                                GRAND LARCENY OF MOTOR VEHICLE      RAPE  \\\n",
       "BURGLARY                                              0.987334  0.517386   \n",
       "FELONY ASSAULT                                        0.963044  0.676950   \n",
       "GRAND LARCENY                                         0.978713  0.606481   \n",
       "GRAND LARCENY OF MOTOR VEHICLE                        1.000000  0.491902   \n",
       "RAPE                                                  0.491902  1.000000   \n",
       "ROBBERY                                               0.958541  0.693475   \n",
       "\n",
       "                                 ROBBERY  \n",
       "BURGLARY                        0.945346  \n",
       "FELONY ASSAULT                  0.999602  \n",
       "GRAND LARCENY                   0.969955  \n",
       "GRAND LARCENY OF MOTOR VEHICLE  0.958541  \n",
       "RAPE                            0.693475  \n",
       "ROBBERY                         1.000000  "
      ]
     },
     "execution_count": 11,
     "metadata": {},
     "output_type": "execute_result"
    }
   ],
   "source": [
    "\n",
    "observed.corr()"
   ]
  },
  {
   "cell_type": "markdown",
   "metadata": {
    "collapsed": false,
    "nbpresent": {
     "id": "ed3941c8-a6bc-439a-bdfe-8871f02a3072"
    }
   },
   "source": [
    "A closer look at correlation matrix reveals that out of 6 offenses, 5 are strongly correlated with correlation coeffecient\n",
    "approximately between 0.94 to 0.99. That means occurrence of these one or more crime in specific location are dependent.\n",
    "The offense Rape has moderate  relationship with other offense types. This provides a reason to focus on that specific crime \n",
    "rather than analyzing all offense types."
   ]
  },
  {
   "cell_type": "markdown",
   "metadata": {
    "nbpresent": {
     "id": "c2dc7e6e-565d-4c56-93da-fca875b822d1"
    }
   },
   "source": [
    "I will split the dataset with offense rape and try to detect high, low and medium risk locations for that crime."
   ]
  },
  {
   "cell_type": "code",
   "execution_count": 12,
   "metadata": {
    "collapsed": false,
    "nbpresent": {
     "id": "a36b4154-7f78-4da3-ac17-c71cd21a1ef0"
    }
   },
   "outputs": [
    {
     "data": {
      "text/html": [
       "<div>\n",
       "<table border=\"1\" class=\"dataframe\">\n",
       "  <thead>\n",
       "    <tr style=\"text-align: right;\">\n",
       "      <th></th>\n",
       "      <th>Borough</th>\n",
       "      <th>Offense</th>\n",
       "      <th>Latitude</th>\n",
       "      <th>Longitude</th>\n",
       "      <th>count</th>\n",
       "    </tr>\n",
       "  </thead>\n",
       "  <tbody>\n",
       "    <tr>\n",
       "      <th>33191</th>\n",
       "      <td>BRONX</td>\n",
       "      <td>RAPE</td>\n",
       "      <td>40.810396</td>\n",
       "      <td>-73.925311</td>\n",
       "      <td>258</td>\n",
       "    </tr>\n",
       "    <tr>\n",
       "      <th>33192</th>\n",
       "      <td>BRONX</td>\n",
       "      <td>RAPE</td>\n",
       "      <td>40.816392</td>\n",
       "      <td>-73.895296</td>\n",
       "      <td>163</td>\n",
       "    </tr>\n",
       "    <tr>\n",
       "      <th>33193</th>\n",
       "      <td>BRONX</td>\n",
       "      <td>RAPE</td>\n",
       "      <td>40.822570</td>\n",
       "      <td>-73.911307</td>\n",
       "      <td>242</td>\n",
       "    </tr>\n",
       "    <tr>\n",
       "      <th>33194</th>\n",
       "      <td>BRONX</td>\n",
       "      <td>RAPE</td>\n",
       "      <td>40.823101</td>\n",
       "      <td>-73.869690</td>\n",
       "      <td>322</td>\n",
       "    </tr>\n",
       "    <tr>\n",
       "      <th>33195</th>\n",
       "      <td>BRONX</td>\n",
       "      <td>RAPE</td>\n",
       "      <td>40.830890</td>\n",
       "      <td>-73.827285</td>\n",
       "      <td>122</td>\n",
       "    </tr>\n",
       "  </tbody>\n",
       "</table>\n",
       "</div>"
      ],
      "text/plain": [
       "      Borough Offense   Latitude  Longitude  count\n",
       "33191   BRONX    RAPE  40.810396 -73.925311    258\n",
       "33192   BRONX    RAPE  40.816392 -73.895296    163\n",
       "33193   BRONX    RAPE  40.822570 -73.911307    242\n",
       "33194   BRONX    RAPE  40.823101 -73.869690    322\n",
       "33195   BRONX    RAPE  40.830890 -73.827285    122"
      ]
     },
     "execution_count": 12,
     "metadata": {},
     "output_type": "execute_result"
    }
   ],
   "source": [
    "data_offense_rape=data_offense.query('Offense == \"RAPE\"')\n",
    "data_offense_rape.sort_values(by=[\"count\"], ascending=[False])\n",
    "data_offense_rape.head()"
   ]
  },
  {
   "cell_type": "markdown",
   "metadata": {
    "nbpresent": {
     "id": "2986be3f-3393-4872-8c85-a186956fd45b"
    }
   },
   "source": [
    "#### Splitting the locations into high, medium and low risk crime zones: <a id='zones'></a>\n",
    "\n",
    "The dataframe with counts of offenses at various locations can be analyzed accordingly. Possiblities include focusing the analysis on specific location (latitude and longitude), analysis of Boroughs with type of Offense, Boroughs with higher counts of offense on specific locations. The dataframe data_offense can be analyzed accordingly by quering the data. For this research, I will be focusing on the rape crime. I will query the dataframe with Offense \"Rape\" and get the location coordinates and counts form the dataframe. Further the dataframe will be divided into high, medium and low risk crime zones.\n",
    "For this  purpose, I will get the 25th and 75th percintile of the count. The count falling within 25th and 75th will be considered as medium risk, below 25th percintile will be considered as low and above 75th percintile will be considered as high risk crime zone."
   ]
  },
  {
   "cell_type": "code",
   "execution_count": 13,
   "metadata": {
    "collapsed": false,
    "nbpresent": {
     "id": "abdd33d5-0b0b-4b94-8720-47d2b92c3cfe"
    }
   },
   "outputs": [
    {
     "data": {
      "text/plain": [
       "(91.0, 241.0)"
      ]
     },
     "execution_count": 13,
     "metadata": {},
     "output_type": "execute_result"
    }
   ],
   "source": [
    "per_25 = np.percentile(data_offense_rape['count'], 25)\n",
    "per_75 = np.percentile(data_offense_rape['count'], 75)\n",
    "\n",
    "per_25, per_75"
   ]
  },
  {
   "cell_type": "code",
   "execution_count": 14,
   "metadata": {
    "collapsed": false,
    "nbpresent": {
     "id": "aefca6bc-ee7f-48b5-a290-7d82a26c21ea"
    }
   },
   "outputs": [],
   "source": [
    "data_offense_rape_high=data_offense_rape.query('count > 241')\n",
    "data_offense_rape_low=data_offense_rape.query('count < 91')\n",
    "data_offense_rape_medium=data_offense_rape.query('count > 91 & count < 241')\n",
    "\n"
   ]
  },
  {
   "cell_type": "markdown",
   "metadata": {
    "nbpresent": {
     "id": "def245ac-6e9d-4ca9-bc91-648be142661d"
    }
   },
   "source": [
    "The datsets for three zones are randomly distributed over the boroughs rather than focussing on specific borough as high, medium or low risk zone. The location coordinates are plotted in visualization section."
   ]
  },
  {
   "cell_type": "markdown",
   "metadata": {
    "nbpresent": {
     "id": "2a13370a-ae95-459c-a43f-654ffde8ef4a"
    }
   },
   "source": [
    "## Predictive Analysis<a id='Predictive Analysis'></a>"
   ]
  },
  {
   "cell_type": "markdown",
   "metadata": {
    "nbpresent": {
     "id": "99eb39ac-54b5-407e-abba-4ed008164573"
    }
   },
   "source": [
    "The dataframe df1 will be used in the model for prediction of location coordinates. We will select the possible predictors\n",
    "for occurrence of crime. 12 variables out of 19 will be selected in dataframe df1. Out of these 12 variables, I will select \n",
    "possible predictors of crime in the prediction of analysis. My target variable will be Longitude and Latitudes."
   ]
  },
  {
   "cell_type": "code",
   "execution_count": 15,
   "metadata": {
    "collapsed": false,
    "nbpresent": {
     "id": "d9b11dd2-d5b1-40c8-8d2a-aa6f4f1b3f92"
    }
   },
   "outputs": [],
   "source": [
    "df1=df1[[\"Occurrence Date\",\"Day of Week\",\"Occurrence Month\", \"Occurrence Day\",\"Borough\",\"Sector\",\"Offense\",\"XCoordinate\",\"YCoordinate\" ,\"Latitude\", \"Longitude\", \"Location 1\"]]\n"
   ]
  },
  {
   "cell_type": "markdown",
   "metadata": {
    "nbpresent": {
     "id": "be43808d-c98a-4dd8-b2d2-510cade6a961"
    }
   },
   "source": [
    "The datatypes for the algorithm needs to be converted to numeric or floating point values. The object datatypes are converted to numeric and then to float  for the model."
   ]
  },
  {
   "cell_type": "code",
   "execution_count": 16,
   "metadata": {
    "collapsed": false,
    "nbpresent": {
     "id": "6911f5f8-e045-4589-84e5-2c2326675b4d"
    }
   },
   "outputs": [],
   "source": [
    "df1[\"Occurrence Date\"] = df1[\"Occurrence Date\"].astype('category')\n",
    "df1[\"Occurrence Date\"] = df1[\"Occurrence Date\"].cat.codes\n",
    "\n",
    "\n",
    "\n",
    "df1[\"Offense\"] = df1[\"Offense\"].astype('category')\n",
    "df1[\"Offense\"] = df1[\"Offense\"].cat.codes\n",
    "\n",
    "df1[\"Day of Week\"] = df1[\"Day of Week\"].astype('category')\n",
    "df1[\"Day of Week\"] = df1[\"Day of Week\"].cat.codes\n",
    "\n",
    "df1[\"Occurrence Month\"] = df1[\"Occurrence Month\"].astype('category')\n",
    "df1[\"Occurrence Month\"] = df1[\"Occurrence Month\"].cat.codes\n",
    "\n",
    "\n",
    "df1[\"Borough\"] = df1[\"Borough\"].astype('category')\n",
    "df1[\"Borough\"] = df1[\"Borough\"].cat.codes\n",
    "\n",
    "\n",
    "df1[\"Sector\"] = df1[\"Sector\"].astype('category')\n",
    "df1[\"Sector\"] = df1[\"Sector\"].cat.codes\n",
    "\n",
    "\n",
    "df1[\"Occurrence Day\"] = df1[\"Occurrence Day\"].astype('category')\n",
    "df1[\"Occurrence Day\"] = df1[\"Occurrence Day\"].cat.codes\n",
    "\n",
    "\n",
    "df1[\"Location 1\"] = df1[\"Location 1\"].astype('category')\n",
    "df1[\"Location 1\"] = df1[\"Location 1\"].cat.codes\n",
    "\n",
    "df1=df1.astype(float)"
   ]
  },
  {
   "cell_type": "markdown",
   "metadata": {
    "collapsed": false,
    "nbpresent": {
     "id": "9e3d1179-4867-45ff-b948-0d3441b1ab4d"
    }
   },
   "source": [
    "### Splitting the dataset into Training and Testing dataframes. <a id='Split Data'></a>\n",
    "We will select the target and predictor variables for the algorithm"
   ]
  },
  {
   "cell_type": "code",
   "execution_count": 17,
   "metadata": {
    "collapsed": false,
    "nbpresent": {
     "id": "07693194-317b-41c2-8782-3c3222eab9a4"
    }
   },
   "outputs": [],
   "source": [
    "train = df1.sample(frac=0.8, random_state=1)\n",
    "test = df1.loc[~df1.index.isin(train.index)]\n",
    "target=[\"Longitude\",\"Latitude\"]\n",
    "predictor=['Occurrence Date','Day of Week', 'Occurrence Month','Occurrence Day','Offense']\n"
   ]
  },
  {
   "cell_type": "markdown",
   "metadata": {
    "nbpresent": {
     "id": "a8717ecf-4ab2-428c-84ca-d64878de1b36"
    }
   },
   "source": [
    "### Random Forest Regressor<a id='RFR'></a>\n",
    "Setting up the random forest algforithm on training and testing sets."
   ]
  },
  {
   "cell_type": "code",
   "execution_count": 18,
   "metadata": {
    "collapsed": false,
    "nbpresent": {
     "id": "1c3a6226-4640-4a36-9f58-0e76d47142dc"
    }
   },
   "outputs": [
    {
     "data": {
      "text/plain": [
       "RandomForestRegressor(bootstrap=True, criterion='mse', max_depth=None,\n",
       "           max_features='auto', max_leaf_nodes=None, min_samples_leaf=1,\n",
       "           min_samples_split=2, min_weight_fraction_leaf=0.0,\n",
       "           n_estimators=100, n_jobs=2, oob_score=True, random_state=None,\n",
       "           verbose=0, warm_start=False)"
      ]
     },
     "execution_count": 18,
     "metadata": {},
     "output_type": "execute_result"
    }
   ],
   "source": [
    "\n",
    "rf = RandomForestRegressor(n_estimators=100,n_jobs=2,oob_score=True)\n",
    "rf.fit(train[predictor], train[target])\n",
    "\n"
   ]
  },
  {
   "cell_type": "markdown",
   "metadata": {
    "nbpresent": {
     "id": "e998a71f-3602-4b29-a4a4-a7bc0d8f47e7"
    }
   },
   "source": [
    "The prediction results are converted into a dataframe result_rf.The prediction results are then plotted on NYC folium map.\n",
    "I have selected random 25 values from the predicted results to map to make visualization process faster on the map."
   ]
  },
  {
   "cell_type": "code",
   "execution_count": 19,
   "metadata": {
    "collapsed": false,
    "nbpresent": {
     "id": "94a82951-d059-46de-b5df-7eb2c1c59383"
    }
   },
   "outputs": [],
   "source": [
    "predictions_rf = rf.predict(test[predictor])\n",
    "result_rf=pd.DataFrame(predictions_rf)\n",
    "result_rf.columns=['Longitude', 'Latitude']"
   ]
  },
  {
   "cell_type": "code",
   "execution_count": 20,
   "metadata": {
    "collapsed": false,
    "nbpresent": {
     "id": "2cf3636f-2ed4-4483-a23a-fa08887b8057"
    }
   },
   "outputs": [
    {
     "data": {
      "text/html": [
       "<div>\n",
       "<table border=\"1\" class=\"dataframe\">\n",
       "  <thead>\n",
       "    <tr style=\"text-align: right;\">\n",
       "      <th></th>\n",
       "      <th>Latitude</th>\n",
       "      <th>Longitude</th>\n",
       "    </tr>\n",
       "  </thead>\n",
       "  <tbody>\n",
       "    <tr>\n",
       "      <th>0</th>\n",
       "      <td>40.698838</td>\n",
       "      <td>-73.950370</td>\n",
       "    </tr>\n",
       "    <tr>\n",
       "      <th>1</th>\n",
       "      <td>40.716699</td>\n",
       "      <td>-73.929581</td>\n",
       "    </tr>\n",
       "    <tr>\n",
       "      <th>2</th>\n",
       "      <td>40.776525</td>\n",
       "      <td>-73.904881</td>\n",
       "    </tr>\n",
       "    <tr>\n",
       "      <th>3</th>\n",
       "      <td>40.758848</td>\n",
       "      <td>-73.920621</td>\n",
       "    </tr>\n",
       "    <tr>\n",
       "      <th>4</th>\n",
       "      <td>40.757811</td>\n",
       "      <td>-73.785741</td>\n",
       "    </tr>\n",
       "    <tr>\n",
       "      <th>5</th>\n",
       "      <td>40.805454</td>\n",
       "      <td>-73.934394</td>\n",
       "    </tr>\n",
       "    <tr>\n",
       "      <th>6</th>\n",
       "      <td>40.737354</td>\n",
       "      <td>-73.922396</td>\n",
       "    </tr>\n",
       "    <tr>\n",
       "      <th>7</th>\n",
       "      <td>40.761279</td>\n",
       "      <td>-73.968121</td>\n",
       "    </tr>\n",
       "    <tr>\n",
       "      <th>8</th>\n",
       "      <td>40.713072</td>\n",
       "      <td>-73.921799</td>\n",
       "    </tr>\n",
       "    <tr>\n",
       "      <th>9</th>\n",
       "      <td>40.751195</td>\n",
       "      <td>-73.931379</td>\n",
       "    </tr>\n",
       "    <tr>\n",
       "      <th>10</th>\n",
       "      <td>40.772981</td>\n",
       "      <td>-73.852684</td>\n",
       "    </tr>\n",
       "    <tr>\n",
       "      <th>11</th>\n",
       "      <td>40.635645</td>\n",
       "      <td>-74.024029</td>\n",
       "    </tr>\n",
       "    <tr>\n",
       "      <th>12</th>\n",
       "      <td>40.754966</td>\n",
       "      <td>-73.892710</td>\n",
       "    </tr>\n",
       "    <tr>\n",
       "      <th>13</th>\n",
       "      <td>40.734923</td>\n",
       "      <td>-73.965128</td>\n",
       "    </tr>\n",
       "    <tr>\n",
       "      <th>14</th>\n",
       "      <td>40.819739</td>\n",
       "      <td>-73.899403</td>\n",
       "    </tr>\n",
       "    <tr>\n",
       "      <th>15</th>\n",
       "      <td>40.660587</td>\n",
       "      <td>-74.039267</td>\n",
       "    </tr>\n",
       "    <tr>\n",
       "      <th>16</th>\n",
       "      <td>40.759153</td>\n",
       "      <td>-73.947079</td>\n",
       "    </tr>\n",
       "    <tr>\n",
       "      <th>17</th>\n",
       "      <td>40.668116</td>\n",
       "      <td>-73.965784</td>\n",
       "    </tr>\n",
       "    <tr>\n",
       "      <th>18</th>\n",
       "      <td>40.637104</td>\n",
       "      <td>-74.042003</td>\n",
       "    </tr>\n",
       "    <tr>\n",
       "      <th>19</th>\n",
       "      <td>40.637104</td>\n",
       "      <td>-74.042003</td>\n",
       "    </tr>\n",
       "    <tr>\n",
       "      <th>20</th>\n",
       "      <td>40.704024</td>\n",
       "      <td>-73.942951</td>\n",
       "    </tr>\n",
       "    <tr>\n",
       "      <th>21</th>\n",
       "      <td>40.707195</td>\n",
       "      <td>-73.850985</td>\n",
       "    </tr>\n",
       "    <tr>\n",
       "      <th>22</th>\n",
       "      <td>40.741910</td>\n",
       "      <td>-73.956264</td>\n",
       "    </tr>\n",
       "    <tr>\n",
       "      <th>23</th>\n",
       "      <td>40.760338</td>\n",
       "      <td>-73.913482</td>\n",
       "    </tr>\n",
       "    <tr>\n",
       "      <th>24</th>\n",
       "      <td>40.795127</td>\n",
       "      <td>-73.946660</td>\n",
       "    </tr>\n",
       "  </tbody>\n",
       "</table>\n",
       "</div>"
      ],
      "text/plain": [
       "     Latitude  Longitude\n",
       "0   40.698838 -73.950370\n",
       "1   40.716699 -73.929581\n",
       "2   40.776525 -73.904881\n",
       "3   40.758848 -73.920621\n",
       "4   40.757811 -73.785741\n",
       "5   40.805454 -73.934394\n",
       "6   40.737354 -73.922396\n",
       "7   40.761279 -73.968121\n",
       "8   40.713072 -73.921799\n",
       "9   40.751195 -73.931379\n",
       "10  40.772981 -73.852684\n",
       "11  40.635645 -74.024029\n",
       "12  40.754966 -73.892710\n",
       "13  40.734923 -73.965128\n",
       "14  40.819739 -73.899403\n",
       "15  40.660587 -74.039267\n",
       "16  40.759153 -73.947079\n",
       "17  40.668116 -73.965784\n",
       "18  40.637104 -74.042003\n",
       "19  40.637104 -74.042003\n",
       "20  40.704024 -73.942951\n",
       "21  40.707195 -73.850985\n",
       "22  40.741910 -73.956264\n",
       "23  40.760338 -73.913482\n",
       "24  40.795127 -73.946660"
      ]
     },
     "execution_count": 20,
     "metadata": {},
     "output_type": "execute_result"
    }
   ],
   "source": [
    "resultrf=result_rf[[\"Latitude\",\"Longitude\"]]\n",
    "resultr=resultrf[:25]\n",
    "resultr"
   ]
  },
  {
   "cell_type": "markdown",
   "metadata": {
    "nbpresent": {
     "id": "ab8494d8-a201-45cd-a5c5-7c4e4c42b281"
    }
   },
   "source": [
    "### Reverse Geocoding<a id='Lookup'></a>\n",
    "\n",
    "   There are possible ways of detecting the location coordinates in the organizations. I will be adding a reverse geocoding \n",
    "   lookup feature to get the names of the cities based on the predicted locations. I will be using resultrf to perform \n",
    "   lookup of the location coordinates. The result is converted into a list and the list (longitudes and latitudes) is  \n",
    "   passed into geolocator to get the names of cities. In addition to the predicted results, the data from data analysis\n",
    "   can be passed to view the desired results. As an example the data from \"data_offense_rape\" can be selected for get name\n",
    "   of area with maximum number of rape crimes by changing the latitudes and longitudes."
   ]
  },
  {
   "cell_type": "code",
   "execution_count": 21,
   "metadata": {
    "collapsed": false,
    "nbpresent": {
     "id": "bb4bcb2e-6bad-48ef-8170-6cefa9a8f2d5"
    }
   },
   "outputs": [
    {
     "data": {
      "text/plain": [
       "['Bedford-Stuyvesant',\n",
       " 'Kings County',\n",
       " 'Steinway',\n",
       " 'Sunnyside Gardens',\n",
       " 'Bayside',\n",
       " 'Harlem',\n",
       " 'Sunnyside Gardens',\n",
       " 'Diamond District',\n",
       " 'Linden Hill',\n",
       " 'Sunnyside Gardens',\n",
       " 'Queens County',\n",
       " 'Bay Ridge',\n",
       " 'Jackson Heights',\n",
       " 'Kings County',\n",
       " 'Melrose',\n",
       " 'NYC',\n",
       " 'Queens County',\n",
       " 'BK',\n",
       " 'Kings County',\n",
       " 'Kings County',\n",
       " 'Williamsburg',\n",
       " 'Queens County',\n",
       " '51st Avenue',\n",
       " 'Steinway',\n",
       " 'East Harlem']"
      ]
     },
     "execution_count": 21,
     "metadata": {},
     "output_type": "execute_result"
    }
   ],
   "source": [
    "geolocator = Nominatim()\n",
    "borough = []\n",
    "rlist= resultr.values.tolist()\n",
    "for l in rlist:\n",
    "    sub = str(geolocator.reverse(l))\n",
    "    borough.append(sub.split(', ')[2])\n",
    "borough"
   ]
  },
  {
   "cell_type": "code",
   "execution_count": 22,
   "metadata": {
    "collapsed": false,
    "nbpresent": {
     "id": "69ccdfa9-2adb-442a-bc76-beee9ba22b06"
    }
   },
   "outputs": [
    {
     "data": {
      "text/plain": [
       "0.0084517144931959866"
      ]
     },
     "execution_count": 22,
     "metadata": {},
     "output_type": "execute_result"
    }
   ],
   "source": [
    "mean_squared_error(predictions_rf, test[target])"
   ]
  },
  {
   "cell_type": "markdown",
   "metadata": {
    "nbpresent": {
     "id": "632c3f18-c267-4d50-a05e-4fcb5378fc2a"
    }
   },
   "source": [
    "# Data Visualization<a class=\"anchor\" id=\"Data Visualization\"></a>"
   ]
  },
  {
   "cell_type": "code",
   "execution_count": 23,
   "metadata": {
    "collapsed": false,
    "nbpresent": {
     "id": "b0d83003-2bd8-4591-9424-c27b641889a2"
    }
   },
   "outputs": [
    {
     "data": {
      "text/plain": [
       "<matplotlib.text.Text at 0x1a00e008d68>"
      ]
     },
     "execution_count": 23,
     "metadata": {},
     "output_type": "execute_result"
    },
    {
     "data": {
      "image/png": "[encoded data removed]",
      "text/plain": [
       "<matplotlib.figure.Figure at 0x1a00dfacf60>"
      ]
     },
     "metadata": {},
     "output_type": "display_data"
    }
   ],
   "source": [
    "%matplotlib inline\n",
    "\n",
    "data_borough = data_borough.set_index('Borough')\n",
    "my_plot = data_borough.plot(kind='bar',title=\"Crime Distribution by Boroughs\",color='red',rot=0)\n",
    "my_plot.set_xlabel(\"Boroughs\")\n",
    "my_plot.set_ylabel(\"Count\")"
   ]
  },
  {
   "cell_type": "code",
   "execution_count": 24,
   "metadata": {
    "collapsed": false,
    "nbpresent": {
     "id": "683c3e59-ff66-4537-99f6-b8e6b95fdc0b"
    },
    "scrolled": true
   },
   "outputs": [
    {
     "data": {
      "text/html": [
       "<div style=\"width:100%;\"><div style=\"position:relative;width:100%;height:0;padding-bottom:60%;\"><iframe src=\"data:text/html;base64,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\" style=\"position:absolute;width:100%;height:100%;left:0;top:0;\"></iframe></div></div>"
      ],
      "text/plain": [
       "<folium.folium.Map at 0x1a00df8fc50>"
      ]
     },
     "metadata": {},
     "output_type": "display_data"
    }
   ],
   "source": [
    "\n",
    "import folium\n",
    "map_osm= folium.Map(location=[40.730610, -73.935242],zoom_start=12)\n",
    "\n",
    "for point in rlist:\n",
    "    folium.Marker( location=[ point[0], point[1] ]).add_to( map_osm )\n",
    "display(map_osm)\n"
   ]
  },
  {
   "cell_type": "code",
   "execution_count": 25,
   "metadata": {
    "collapsed": false,
    "nbpresent": {
     "id": "fe5f4a2b-74e4-47f0-8e7e-e234eb599bde"
    }
   },
   "outputs": [
    {
     "data": {
      "text/plain": [
       "<matplotlib.legend.Legend at 0x1a00f57c390>"
      ]
     },
     "execution_count": 25,
     "metadata": {},
     "output_type": "execute_result"
    },
    {
     "data": {
      "image/png": "[encoded data removed]",
      "text/plain": [
       "<matplotlib.figure.Figure at 0x1a00f392128>"
      ]
     },
     "metadata": {},
     "output_type": "display_data"
    }
   ],
   "source": [
    "%matplotlib inline\n",
    "\n",
    "gdf = gpd.GeoDataFrame.from_file('C:\\\\Users\\\\Gurpreet\\\\Documents\\\\IS602\\\\borough_shapes')\n",
    "gdf.plot( figsize=(20,18))\n",
    "plt.title('NYC Crime Map (Offense - Rape)', fontsize=22, weight= 'bold')\n",
    "#plt.axis('off')\n",
    "plt.scatter(data_offense_rape_high['Longitude'],data_offense_rape_high['Latitude'],s=65,marker='o',color='red')\n",
    "\n",
    "plt.scatter(data_offense_rape_medium['Longitude'],data_offense_rape_medium['Latitude'],s=65,marker='s',color='green')\n",
    "\n",
    "plt.scatter(data_offense_rape_low['Longitude'],data_offense_rape_low['Latitude'],s=65,marker='^',color='blue')\n",
    "\n",
    "\n",
    "\n",
    "\n",
    "high=ml.Line2D([],{},color='red',marker='o',markersize=10,label='High Risk')\n",
    "med=ml.Line2D([],{},color='green',marker='s',markersize=10,label='Medium Risk')\n",
    "low=ml.Line2D([],{},color='blue',marker='^',markersize=10,label='Low Risk')\n",
    "\n",
    "\n",
    "\n",
    "plt.legend(handles=[high,med,low],loc='upper left')"
   ]
  },
  {
   "cell_type": "markdown",
   "metadata": {
    "nbpresent": {
     "id": "c4584095-d4ba-43f0-834d-aaa96c1f724d"
    }
   },
   "source": [
    "### Conclusion:<a id='Conclusion'></a>\n",
    "This research study was an effort to predict the crime hotspots. This technique is utilized in predictive policing, with more sophisticated tools and teams working together to yield effective results. In random forest regressor, our mean squared error was closely approaching zero, which is good indication in testing the accuracy of prediction algorithms. In this case, the parameters of the model were not tuned in depth.Accurracy with mean squared error closer to zero might be due to overfitting or oob error. However it is not impossible to attain that accuracy in the algorithms.With proper selection and indepth tuning of the algorithms and availability of huge amount of data this accuracy is possible."
   ]
  },
  {
   "cell_type": "markdown",
   "metadata": {
    "nbpresent": {
     "id": "401308fd-b029-45a8-9b04-0c60bfac0d8c"
    }
   },
   "source": [
    "#### Further Reading and Analysis:<a id='Further Reading'></a>"
   ]
  },
  {
   "cell_type": "markdown",
   "metadata": {
    "nbpresent": {
     "id": "1d256aa4-a35b-4f15-b794-be811087685d"
    }
   },
   "source": [
    "* The prediction can be applied to a different target variable. The variable \"Sector\" selected \n",
    "  as a target variable predicted better results. Different variables can be selected for prediction.\n",
    "  \n",
    "  \n",
    "  \n",
    "* In order to select the best approach, different model can be tested and appplied for prediction.\n",
    "  Support Vector Machine, Linear Regression, Naive Bayes and Recursive Partitioning are some models that \n",
    "  can be considered for the best results.\n",
    "  \n",
    "  \n",
    "  \n",
    "* Random Forest and other prediction models requires indepth tuning of parameters to yield best results.\n",
    "  Algorithm tuning assist in overcoming overfitting, out of bag error in splitting training and testing datasets.\n",
    "  \n",
    "  \n",
    "* Using Parallel Computing is another approach which can be considered to speed up the process as the operations on\n",
    "  the pandas dataframe can be performed faster."
   ]
  },
  {
   "cell_type": "markdown",
   "metadata": {
    "collapsed": true,
    "nbpresent": {
     "id": "4c1b5c1c-8fda-4ace-8aa0-1c7fe93e3b3a"
    }
   },
   "source": [
    "#### Refrences:<a id='Refrences'></a>"
   ]
  },
  {
   "cell_type": "markdown",
   "metadata": {
    "nbpresent": {
     "id": "fad9b61f-fe21-49ef-93a6-f494f2766492"
    }
   },
   "source": [
    "\n",
    ".[Machine learning with Python: A Tutorial](https://www.dataquest.io/blog/machine-learning-python/)\n",
    "\n",
    ".[Python for data science: Getting started](https://www.dataquest.io/blog/python-data-science/)\n",
    "\n",
    "\n",
    ".[Basic Interactive Geospatial Analysis in Python](http://blog.yhat.com/posts/interactive-geospatial-analysis.html)\n",
    "\n",
    "\n",
    ".[GeoPandas Documentation](https://media.readthedocs.org/pdf/geopandas/master/geopandas.pdf)\n",
    "\n",
    "\n",
    ".[Geocoding And Reverse Geocoding](http://chrisalbon.com/python/geocoding_and_reverse_geocoding.html)\n",
    "\n",
    "\n",
    ".[Python for Data Analysis Part 30: Random Forests](http://hamelg.blogspot.com/2015/12/python-for-data-analysis-part-30-random.html)\n",
    "\n",
    "\n",
    ".[Machine Learning to predict San Francisco Crime](http://efavdb.com/predicting-san-francisco-crimes/)\n",
    "\n",
    "\n",
    ".[Diving into data - A blog on machine learning, data mining and visualization](http://blog.datadive.net/selecting-good-features-part-iii-random-forests/)\n",
    "\n",
    ".[Titanic: Machine Learning from Disaster](https://www.kaggle.com/c/titanic)\n",
    "\n",
    ".[The Yhat Blog -Random Forests in Python](http://blog.yhat.com/posts/random-forests-in-python.html)"
   ]
  }
 ],
 "metadata": {
  "anaconda-cloud": {
   "summary": "Crime Analysis"
  },
  "kernelspec": {
   "display_name": "Python [Root]",
   "language": "python",
   "name": "Python [Root]"
  },
  "language_info": {
   "codemirror_mode": {
    "name": "ipython",
    "version": 3
   },
   "file_extension": ".py",
   "mimetype": "text/x-python",
   "name": "python",
   "nbconvert_exporter": "python",
   "pygments_lexer": "ipython3",
   "version": "3.5.2"
  },
  "nbpresent": {
   "slides": {
    "0578898b-381d-4172-b72a-e6c4b0fd1b3b": {
     "id": "0578898b-381d-4172-b72a-e6c4b0fd1b3b",
     "prev": "91e51a47-d14d-4da9-9b7e-a1afa5d29c6f",
     "regions": {
      "d6054f42-fa71-4d19-b15f-3c3d0249c0fa": {
       "attrs": {
        "height": 0.8,
        "width": 0.8,
        "x": 0.1,
        "y": 0.1
       },
       "content": {
        "cell": "2986be3f-3393-4872-8c85-a186956fd45b",
        "part": "whole"
       },
       "id": "d6054f42-fa71-4d19-b15f-3c3d0249c0fa"
      }
     }
    },
    "07aaf511-4bf2-4682-9b65-f44d00cb5827": {
     "id": "07aaf511-4bf2-4682-9b65-f44d00cb5827",
     "prev": "0c6dcda9-ca1d-48c5-a78c-c47b96635fe6",
     "regions": {
      "f69d5303-567f-499f-8a3d-80e2a531c76c": {
       "attrs": {
        "height": 0.8,
        "width": 0.8,
        "x": 0.1,
        "y": 0.1
       },
       "content": {
        "cell": "99eb39ac-54b5-407e-abba-4ed008164573",
        "part": "whole"
       },
       "id": "f69d5303-567f-499f-8a3d-80e2a531c76c"
      }
     }
    },
    "092b76dc-89ef-4771-97fb-222a49933574": {
     "id": "092b76dc-89ef-4771-97fb-222a49933574",
     "prev": "f6dd6ec6-2e34-4e00-8540-9c3064edf5fb",
     "regions": {
      "052bc789-57fa-45f8-b5be-d6eea8673275": {
       "attrs": {
        "height": 0.8,
        "width": 0.8,
        "x": 0.1,
        "y": 0.1
       },
       "content": {
        "cell": "401308fd-b029-45a8-9b04-0c60bfac0d8c",
        "part": "whole"
       },
       "id": "052bc789-57fa-45f8-b5be-d6eea8673275"
      }
     }
    },
    "09308070-1fe2-4516-91e0-bdcf1663279f": {
     "id": "09308070-1fe2-4516-91e0-bdcf1663279f",
     "prev": "56ce3e32-6a35-4961-8eb0-ff60175a22ac",
     "regions": {
      "69ce0cf1-d274-45f5-b055-7fec3a448ef2": {
       "attrs": {
        "height": 0.8,
        "width": 0.8,
        "x": 0.1,
        "y": 0.1
       },
       "content": {
        "cell": "9e3d1179-4867-45ff-b948-0d3441b1ab4d",
        "part": "whole"
       },
       "id": "69ce0cf1-d274-45f5-b055-7fec3a448ef2"
      }
     }
    },
    "0c6dcda9-ca1d-48c5-a78c-c47b96635fe6": {
     "id": "0c6dcda9-ca1d-48c5-a78c-c47b96635fe6",
     "prev": "e6783487-9de6-4b0c-aeb3-93704683f4ee",
     "regions": {
      "225031d1-ebf5-4c49-a598-ad88d6a5dba7": {
       "attrs": {
        "height": 0.8,
        "width": 0.8,
        "x": 0.1,
        "y": 0.1
       },
       "content": {
        "cell": "2a13370a-ae95-459c-a43f-654ffde8ef4a",
        "part": "whole"
       },
       "id": "225031d1-ebf5-4c49-a598-ad88d6a5dba7"
      }
     }
    },
    "2b7a123f-73e2-4a44-9109-d36487f0e807": {
     "id": "2b7a123f-73e2-4a44-9109-d36487f0e807",
     "prev": "fe9bc446-bb60-499e-96fc-d99631d9b8d2",
     "regions": {
      "32fc53b2-0cc8-4ea2-a0bf-c0c7a0ff3f8c": {
       "attrs": {
        "height": 0.8,
        "width": 0.8,
        "x": 0.1,
        "y": 0.1
       },
       "content": {
        "cell": "e998a71f-3602-4b29-a4a4-a7bc0d8f47e7",
        "part": "whole"
       },
       "id": "32fc53b2-0cc8-4ea2-a0bf-c0c7a0ff3f8c"
      }
     }
    },
    "2c86c9d5-20a9-4af2-8fa4-e334b3b081b9": {
     "id": "2c86c9d5-20a9-4af2-8fa4-e334b3b081b9",
     "prev": "8c74eea4-afc7-4eb4-8e99-92f6019f99ce",
     "regions": {
      "6eca3506-60b5-4799-9f60-8bd5e6e9c54e": {
       "attrs": {
        "height": 0.8,
        "width": 0.8,
        "x": 0.1,
        "y": 0.1
       },
       "content": {
        "cell": "632c3f18-c267-4d50-a05e-4fcb5378fc2a",
        "part": "whole"
       },
       "id": "6eca3506-60b5-4799-9f60-8bd5e6e9c54e"
      }
     }
    },
    "2eb208b1-d225-4c7f-bfa5-54a48e71da67": {
     "id": "2eb208b1-d225-4c7f-bfa5-54a48e71da67",
     "prev": "b53df822-2c39-4802-8b11-900ae4c2d3dd",
     "regions": {
      "a576b19c-7612-4265-b45d-cf1086cb0aff": {
       "attrs": {
        "height": 0.8,
        "width": 0.8,
        "x": 0.1,
        "y": 0.1
       },
       "content": {
        "cell": "b41925f1-3e9e-49e5-bf1a-d940b1faef7e",
        "part": "whole"
       },
       "id": "a576b19c-7612-4265-b45d-cf1086cb0aff"
      }
     }
    },
    "3c35bdb7-84ad-4006-aa00-223dbfe40845": {
     "id": "3c35bdb7-84ad-4006-aa00-223dbfe40845",
     "prev": "56abef16-d6a6-4576-9688-ef47c740748d",
     "regions": {
      "bf874202-8126-4bf7-9643-ef11e2b9b3d4": {
       "attrs": {
        "height": 0.8,
        "width": 0.8,
        "x": 0.1,
        "y": 0.1
       },
       "content": {
        "cell": "fad9b61f-fe21-49ef-93a6-f494f2766492",
        "part": "whole"
       },
       "id": "bf874202-8126-4bf7-9643-ef11e2b9b3d4"
      }
     }
    },
    "3ee95721-f4b8-4f26-a923-6953c0d52fad": {
     "id": "3ee95721-f4b8-4f26-a923-6953c0d52fad",
     "prev": "e5b6304a-fa1f-4268-b367-58f5a66960b1",
     "regions": {
      "9220fa26-55af-46cd-8945-8eb06142cd70": {
       "attrs": {
        "height": 0.8,
        "width": 0.8,
        "x": 0.1,
        "y": 0.1
       },
       "content": {
        "cell": "4019fd94-95b0-4fdc-9ae1-e1317339cc39",
        "part": "whole"
       },
       "id": "9220fa26-55af-46cd-8945-8eb06142cd70"
      }
     }
    },
    "401e1c88-99ad-4039-b3b8-db190d40d9f4": {
     "id": "401e1c88-99ad-4039-b3b8-db190d40d9f4",
     "prev": "6a4e9328-d987-4876-b8ec-9b8780c58a34",
     "regions": {
      "0d280a8e-cb7c-4a9c-be89-0a8ad5cbfc6d": {
       "attrs": {
        "height": 0.8,
        "width": 0.8,
        "x": 0.1,
        "y": 0.1
       },
       "content": {
        "cell": "bb4bcb2e-6bad-48ef-8170-6cefa9a8f2d5",
        "part": "whole"
       },
       "id": "0d280a8e-cb7c-4a9c-be89-0a8ad5cbfc6d"
      }
     }
    },
    "460ab58d-b445-49e9-92ac-988c04acf487": {
     "id": "460ab58d-b445-49e9-92ac-988c04acf487",
     "prev": "f42ebc3b-73ec-4b07-8516-af13109d30ea",
     "regions": {
      "16ce93b9-6416-4779-baa0-0aa146c890e9": {
       "attrs": {
        "height": 0.8,
        "width": 0.8,
        "x": 0.1,
        "y": 0.1
       },
       "content": {
        "cell": "ed3941c8-a6bc-439a-bdfe-8871f02a3072",
        "part": "whole"
       },
       "id": "16ce93b9-6416-4779-baa0-0aa146c890e9"
      }
     }
    },
    "48756b37-74f6-4270-a484-adf12ac75e83": {
     "id": "48756b37-74f6-4270-a484-adf12ac75e83",
     "prev": "2c86c9d5-20a9-4af2-8fa4-e334b3b081b9",
     "regions": {
      "547469d2-e387-4d93-ba13-4323c86ddaaf": {
       "attrs": {
        "height": 0.8,
        "width": 0.8,
        "x": 0.1,
        "y": 0.1
       },
       "content": {
        "cell": "b0d83003-2bd8-4591-9424-c27b641889a2",
        "part": "whole"
       },
       "id": "547469d2-e387-4d93-ba13-4323c86ddaaf"
      }
     }
    },
    "4fc49983-93c4-4988-a174-b8223aacedbe": {
     "id": "4fc49983-93c4-4988-a174-b8223aacedbe",
     "prev": "61693003-bb85-4c8f-93e4-cc781b14268e",
     "regions": {
      "02d938f8-d4e0-4fe4-91a4-7835ce4b4e80": {
       "attrs": {
        "height": 0.8,
        "width": 0.8,
        "x": 0.1,
        "y": 0.1
       },
       "content": {
        "cell": "6773e265-b0f2-4faa-a56e-16c280c49200",
        "part": "whole"
       },
       "id": "02d938f8-d4e0-4fe4-91a4-7835ce4b4e80"
      }
     }
    },
    "56abef16-d6a6-4576-9688-ef47c740748d": {
     "id": "56abef16-d6a6-4576-9688-ef47c740748d",
     "prev": "9bd74430-9089-48ab-b705-e32e2d0294c2",
     "regions": {
      "d883cf04-19d5-4b98-9aae-26da6d2877ff": {
       "attrs": {
        "height": 0.8,
        "width": 0.8,
        "x": 0.1,
        "y": 0.1
       },
       "content": {
        "cell": "4c1b5c1c-8fda-4ace-8aa0-1c7fe93e3b3a",
        "part": "whole"
       },
       "id": "d883cf04-19d5-4b98-9aae-26da6d2877ff"
      }
     }
    },
    "56ce3e32-6a35-4961-8eb0-ff60175a22ac": {
     "id": "56ce3e32-6a35-4961-8eb0-ff60175a22ac",
     "prev": "788d44df-cfbf-49fa-87fc-ce894fbb010c",
     "regions": {
      "55aed5ba-03fd-4270-8ef6-0e258e49ac47": {
       "attrs": {
        "height": 0.8,
        "width": 0.8,
        "x": 0.1,
        "y": 0.1
       },
       "content": {
        "cell": "6911f5f8-e045-4589-84e5-2c2326675b4d",
        "part": "whole"
       },
       "id": "55aed5ba-03fd-4270-8ef6-0e258e49ac47"
      }
     }
    },
    "61693003-bb85-4c8f-93e4-cc781b14268e": {
     "id": "61693003-bb85-4c8f-93e4-cc781b14268e",
     "prev": "773e8a46-082a-4c83-a6a5-68571059daa9",
     "regions": {
      "cc1ccf9c-4ef9-4da1-abcb-3789fce29e79": {
       "attrs": {
        "height": 0.8,
        "width": 0.8,
        "x": 0.1,
        "y": 0.1
       },
       "content": {
        "cell": "0393e8fe-c6cb-48d8-afcb-9c94f854a162",
        "part": "whole"
       },
       "id": "cc1ccf9c-4ef9-4da1-abcb-3789fce29e79"
      }
     }
    },
    "61933792-42f2-45a8-8a49-32488b37381a": {
     "id": "61933792-42f2-45a8-8a49-32488b37381a",
     "prev": "9caef57c-c4b9-4300-871c-1d6935613fa3",
     "regions": {
      "d092bf3f-690d-428d-9f1d-d03d32d35b12": {
       "attrs": {
        "height": 0.8,
        "width": 0.8,
        "x": 0.1,
        "y": 0.1
       },
       "content": {
        "cell": "aefca6bc-ee7f-48b5-a290-7d82a26c21ea",
        "part": "whole"
       },
       "id": "d092bf3f-690d-428d-9f1d-d03d32d35b12"
      }
     }
    },
    "674a3f49-6d2c-4d65-a2e2-efed4aa15c17": {
     "id": "674a3f49-6d2c-4d65-a2e2-efed4aa15c17",
     "prev": "7ed993ad-e437-481d-9bad-8b06c4190aa4",
     "regions": {
      "24b5c65b-e614-40f6-8a64-05d4983840cd": {
       "attrs": {
        "height": 0.8,
        "width": 0.8,
        "x": 0.1,
        "y": 0.1
       },
       "content": {
        "cell": "c3a0df26-f54b-4cc1-a24c-9ca1a8ff896b",
        "part": "whole"
       },
       "id": "24b5c65b-e614-40f6-8a64-05d4983840cd"
      }
     }
    },
    "6a4e9328-d987-4876-b8ec-9b8780c58a34": {
     "id": "6a4e9328-d987-4876-b8ec-9b8780c58a34",
     "prev": "ce8113d1-426b-49e4-a86c-09cc3a9fc423",
     "regions": {
      "4cb530f1-0720-44a6-ac56-9eea29fe5f1f": {
       "attrs": {
        "height": 0.8,
        "width": 0.8,
        "x": 0.1,
        "y": 0.1
       },
       "content": {
        "cell": "ab8494d8-a201-45cd-a5c5-7c4e4c42b281",
        "part": "whole"
       },
       "id": "4cb530f1-0720-44a6-ac56-9eea29fe5f1f"
      }
     }
    },
    "76493bcd-6d3c-4f5b-9240-3b090bdd4208": {
     "id": "76493bcd-6d3c-4f5b-9240-3b090bdd4208",
     "prev": null,
     "regions": {
      "17beecf6-f197-427f-9c88-08a1fc221f90": {
       "attrs": {
        "height": 0.8,
        "width": 0.8,
        "x": 0.1,
        "y": 0.1
       },
       "content": {
        "cell": "38d41890-27f5-4e5a-a8f2-d184a66f7514",
        "part": "whole"
       },
       "id": "17beecf6-f197-427f-9c88-08a1fc221f90"
      }
     }
    },
    "769590fe-fe86-429c-9dbd-43c3da85f0f2": {
     "id": "769590fe-fe86-429c-9dbd-43c3da85f0f2",
     "prev": "3ee95721-f4b8-4f26-a923-6953c0d52fad",
     "regions": {
      "612d12e6-54b1-42e2-ab14-d959a52ce3a5": {
       "attrs": {
        "height": 0.8,
        "width": 0.8,
        "x": 0.1,
        "y": 0.1
       },
       "content": {
        "cell": "22f2ca77-4a58-4236-87cd-cf285b432982",
        "part": "whole"
       },
       "id": "612d12e6-54b1-42e2-ab14-d959a52ce3a5"
      }
     }
    },
    "773e8a46-082a-4c83-a6a5-68571059daa9": {
     "id": "773e8a46-082a-4c83-a6a5-68571059daa9",
     "prev": "dcace905-d74b-4f17-b4ab-5366757966f3",
     "regions": {
      "ad452ab6-68b4-4872-9e0c-6408e37e4f42": {
       "attrs": {
        "height": 0.8,
        "width": 0.8,
        "x": 0.1,
        "y": 0.1
       },
       "content": {
        "cell": "2003ca64-c758-4ae6-aefb-2e96e729a431",
        "part": "whole"
       },
       "id": "ad452ab6-68b4-4872-9e0c-6408e37e4f42"
      }
     }
    },
    "788d44df-cfbf-49fa-87fc-ce894fbb010c": {
     "id": "788d44df-cfbf-49fa-87fc-ce894fbb010c",
     "prev": "d17dfc74-dc0c-43f6-80e9-e2e52ca67329",
     "regions": {
      "676d04ad-e342-4b00-9ad8-122db905b0b1": {
       "attrs": {
        "height": 0.8,
        "width": 0.8,
        "x": 0.1,
        "y": 0.1
       },
       "content": {
        "cell": "be43808d-c98a-4dd8-b2d2-510cade6a961",
        "part": "whole"
       },
       "id": "676d04ad-e342-4b00-9ad8-122db905b0b1"
      }
     }
    },
    "7ce619aa-ea94-4488-b3bf-29c5ced4a373": {
     "id": "7ce619aa-ea94-4488-b3bf-29c5ced4a373",
     "prev": "4fc49983-93c4-4988-a174-b8223aacedbe",
     "regions": {
      "48ea4e01-140a-4e1f-9741-293a756eca7d": {
       "attrs": {
        "height": 0.8,
        "width": 0.8,
        "x": 0.1,
        "y": 0.1
       },
       "content": {
        "cell": "5ac62751-aab5-4dea-81c4-4711bf505f15",
        "part": "whole"
       },
       "id": "48ea4e01-140a-4e1f-9741-293a756eca7d"
      }
     }
    },
    "7ce92892-7e9a-4987-9d2d-65c66f8fccd9": {
     "id": "7ce92892-7e9a-4987-9d2d-65c66f8fccd9",
     "prev": "82188e84-7558-4b6a-b35b-52264676d646",
     "regions": {
      "cca3b328-cbcc-4e35-a1d6-aefbea3469c1": {
       "attrs": {
        "height": 0.8,
        "width": 0.8,
        "x": 0.1,
        "y": 0.1
       },
       "content": {
        "cell": "ab36d10d-1c4e-4f8b-a472-f7cd81e715a0",
        "part": "whole"
       },
       "id": "cca3b328-cbcc-4e35-a1d6-aefbea3469c1"
      }
     }
    },
    "7d0fcf8d-8dd9-483a-9a69-2b0d8c681083": {
     "id": "7d0fcf8d-8dd9-483a-9a69-2b0d8c681083",
     "prev": "674a3f49-6d2c-4d65-a2e2-efed4aa15c17",
     "regions": {
      "6626fe7f-599f-4bcb-bd32-f52c8c194fae": {
       "attrs": {
        "height": 0.8,
        "width": 0.8,
        "x": 0.1,
        "y": 0.1
       },
       "content": {
        "cell": "51e16b1d-38fb-4c24-927c-6d817032de7d",
        "part": "whole"
       },
       "id": "6626fe7f-599f-4bcb-bd32-f52c8c194fae"
      }
     }
    },
    "7ed993ad-e437-481d-9bad-8b06c4190aa4": {
     "id": "7ed993ad-e437-481d-9bad-8b06c4190aa4",
     "prev": "e9e11781-c2b0-4328-984c-9c056c36d6de",
     "regions": {
      "a1d73fba-fcc1-4525-ade7-ebac0bbfca1f": {
       "attrs": {
        "height": 0.8,
        "width": 0.8,
        "x": 0.1,
        "y": 0.1
       },
       "content": {
        "cell": "1bfe653a-2f15-4f8b-93f2-885c8c901b6c",
        "part": "whole"
       },
       "id": "a1d73fba-fcc1-4525-ade7-ebac0bbfca1f"
      }
     }
    },
    "82188e84-7558-4b6a-b35b-52264676d646": {
     "id": "82188e84-7558-4b6a-b35b-52264676d646",
     "prev": "769590fe-fe86-429c-9dbd-43c3da85f0f2",
     "regions": {
      "7025fd17-5f02-4b5f-ba3e-6ba1dd22dc78": {
       "attrs": {
        "height": 0.8,
        "width": 0.8,
        "x": 0.1,
        "y": 0.1
       },
       "content": {
        "cell": "aa04f795-2559-4e21-9dad-1bb606327bf7",
        "part": "whole"
       },
       "id": "7025fd17-5f02-4b5f-ba3e-6ba1dd22dc78"
      }
     }
    },
    "84b2e846-aa5b-465a-b4b3-289ba4659eaa": {
     "id": "84b2e846-aa5b-465a-b4b3-289ba4659eaa",
     "prev": "2b7a123f-73e2-4a44-9109-d36487f0e807",
     "regions": {
      "3b63c361-efb8-4c9f-aab9-eafeb725d94e": {
       "attrs": {
        "height": 0.8,
        "width": 0.8,
        "x": 0.1,
        "y": 0.1
       },
       "content": {
        "cell": "94a82951-d059-46de-b5df-7eb2c1c59383",
        "part": "whole"
       },
       "id": "3b63c361-efb8-4c9f-aab9-eafeb725d94e"
      }
     }
    },
    "85c1cad7-374b-4982-9903-46c6a4a000e7": {
     "id": "85c1cad7-374b-4982-9903-46c6a4a000e7",
     "prev": "48756b37-74f6-4270-a484-adf12ac75e83",
     "regions": {
      "2bed33f6-b21a-4294-b974-a7b213a41ecb": {
       "attrs": {
        "height": 0.8,
        "width": 0.8,
        "x": 0.1,
        "y": 0.1
       },
       "content": {
        "cell": "683c3e59-ff66-4537-99f6-b8e6b95fdc0b",
        "part": "whole"
       },
       "id": "2bed33f6-b21a-4294-b974-a7b213a41ecb"
      }
     }
    },
    "881ff56f-4217-43b6-a1f0-70c97f11c33e": {
     "id": "881ff56f-4217-43b6-a1f0-70c97f11c33e",
     "prev": "aa1c4266-67db-403e-a5e9-c03096ee6cb4",
     "regions": {
      "0a812601-2417-4fc8-8513-df9accb585a5": {
       "attrs": {
        "height": 0.8,
        "width": 0.8,
        "x": 0.1,
        "y": 0.1
       },
       "content": {
        "cell": "0dbac0f5-b51f-48c4-93b0-a8afbb2345b1",
        "part": "whole"
       },
       "id": "0a812601-2417-4fc8-8513-df9accb585a5"
      }
     }
    },
    "8c74eea4-afc7-4eb4-8e99-92f6019f99ce": {
     "id": "8c74eea4-afc7-4eb4-8e99-92f6019f99ce",
     "prev": "401e1c88-99ad-4039-b3b8-db190d40d9f4",
     "regions": {
      "aa90c722-2acb-402b-88f8-6cd09c478c8f": {
       "attrs": {
        "height": 0.8,
        "width": 0.8,
        "x": 0.1,
        "y": 0.1
       },
       "content": {
        "cell": "69ccdfa9-2adb-442a-bc76-beee9ba22b06",
        "part": "whole"
       },
       "id": "aa90c722-2acb-402b-88f8-6cd09c478c8f"
      }
     }
    },
    "91e51a47-d14d-4da9-9b7e-a1afa5d29c6f": {
     "id": "91e51a47-d14d-4da9-9b7e-a1afa5d29c6f",
     "prev": "f1d862e6-8038-40c8-a7d4-db2e7378a04e",
     "regions": {
      "d92beeaf-a903-4de7-9c07-4612461e7ec4": {
       "attrs": {
        "height": 0.8,
        "width": 0.8,
        "x": 0.1,
        "y": 0.1
       },
       "content": {
        "cell": "a36b4154-7f78-4da3-ac17-c71cd21a1ef0",
        "part": "whole"
       },
       "id": "d92beeaf-a903-4de7-9c07-4612461e7ec4"
      }
     }
    },
    "9bbbc092-b6ae-46d2-ad08-2d6b2644dcdc": {
     "id": "9bbbc092-b6ae-46d2-ad08-2d6b2644dcdc",
     "prev": "09308070-1fe2-4516-91e0-bdcf1663279f",
     "regions": {
      "ba9a4f9b-fa50-43e0-80a0-afd9306cffef": {
       "attrs": {
        "height": 0.8,
        "width": 0.8,
        "x": 0.1,
        "y": 0.1
       },
       "content": {
        "cell": "07693194-317b-41c2-8782-3c3222eab9a4",
        "part": "whole"
       },
       "id": "ba9a4f9b-fa50-43e0-80a0-afd9306cffef"
      }
     }
    },
    "9bbeef03-d08e-49a5-a877-0fdeecfff068": {
     "id": "9bbeef03-d08e-49a5-a877-0fdeecfff068",
     "prev": "ed023dc9-8462-419a-a02d-b2501c3306ad",
     "regions": {
      "c099787f-1ff1-43c2-8a9a-6cb86241e3fd": {
       "attrs": {
        "height": 0.8,
        "width": 0.8,
        "x": 0.1,
        "y": 0.1
       },
       "content": {
        "cell": "25828487-a96f-4491-9d60-5483bfaadc14",
        "part": "whole"
       },
       "id": "c099787f-1ff1-43c2-8a9a-6cb86241e3fd"
      }
     }
    },
    "9bd74430-9089-48ab-b705-e32e2d0294c2": {
     "id": "9bd74430-9089-48ab-b705-e32e2d0294c2",
     "prev": "092b76dc-89ef-4771-97fb-222a49933574",
     "regions": {
      "9585ce4c-a631-4d44-8d9d-a9f63c0b9548": {
       "attrs": {
        "height": 0.8,
        "width": 0.8,
        "x": 0.1,
        "y": 0.1
       },
       "content": {
        "cell": "1d256aa4-a35b-4f15-b794-be811087685d",
        "part": "whole"
       },
       "id": "9585ce4c-a631-4d44-8d9d-a9f63c0b9548"
      }
     }
    },
    "9caef57c-c4b9-4300-871c-1d6935613fa3": {
     "id": "9caef57c-c4b9-4300-871c-1d6935613fa3",
     "prev": "0578898b-381d-4172-b72a-e6c4b0fd1b3b",
     "regions": {
      "d2b2cd4f-34f9-46d0-b516-dee7b77f1c33": {
       "attrs": {
        "height": 0.8,
        "width": 0.8,
        "x": 0.1,
        "y": 0.1
       },
       "content": {
        "cell": "abdd33d5-0b0b-4b94-8720-47d2b92c3cfe",
        "part": "whole"
       },
       "id": "d2b2cd4f-34f9-46d0-b516-dee7b77f1c33"
      }
     }
    },
    "a31aad1a-90b2-4986-90a4-c9311cad74dd": {
     "id": "a31aad1a-90b2-4986-90a4-c9311cad74dd",
     "prev": "881ff56f-4217-43b6-a1f0-70c97f11c33e",
     "regions": {
      "7172068c-3fb7-4e52-be9d-14b1adb18145": {
       "attrs": {
        "height": 0.8,
        "width": 0.8,
        "x": 0.1,
        "y": 0.1
       },
       "content": {
        "cell": "5bb5f139-fb13-44ff-aab5-f1069b01f68c",
        "part": "whole"
       },
       "id": "7172068c-3fb7-4e52-be9d-14b1adb18145"
      }
     }
    },
    "a818f54d-a09f-45b4-99c9-f67d152ac9b9": {
     "id": "a818f54d-a09f-45b4-99c9-f67d152ac9b9",
     "prev": "9bbbc092-b6ae-46d2-ad08-2d6b2644dcdc",
     "regions": {
      "0e589703-73db-4113-92bb-d96260390dc2": {
       "attrs": {
        "height": 0.8,
        "width": 0.8,
        "x": 0.1,
        "y": 0.1
       },
       "content": {
        "cell": "a8717ecf-4ab2-428c-84ca-d64878de1b36",
        "part": "whole"
       },
       "id": "0e589703-73db-4113-92bb-d96260390dc2"
      }
     }
    },
    "aa1c4266-67db-403e-a5e9-c03096ee6cb4": {
     "id": "aa1c4266-67db-403e-a5e9-c03096ee6cb4",
     "prev": "2eb208b1-d225-4c7f-bfa5-54a48e71da67",
     "regions": {
      "81090a56-d36f-42cc-bd88-136868f4c3c4": {
       "attrs": {
        "height": 0.8,
        "width": 0.8,
        "x": 0.1,
        "y": 0.1
       },
       "content": {
        "cell": "5f1b739f-cc5f-49f3-ac0f-df015a550d85",
        "part": "whole"
       },
       "id": "81090a56-d36f-42cc-bd88-136868f4c3c4"
      }
     }
    },
    "b53df822-2c39-4802-8b11-900ae4c2d3dd": {
     "id": "b53df822-2c39-4802-8b11-900ae4c2d3dd",
     "prev": "7ce619aa-ea94-4488-b3bf-29c5ced4a373",
     "regions": {
      "3e7d3f5d-893f-42a7-b2b1-39f53f815ef7": {
       "attrs": {
        "height": 0.8,
        "width": 0.8,
        "x": 0.1,
        "y": 0.1
       },
       "content": {
        "cell": "1d31372e-e407-4209-8f81-0afaaab2449d",
        "part": "whole"
       },
       "id": "3e7d3f5d-893f-42a7-b2b1-39f53f815ef7"
      }
     }
    },
    "b5adda7c-5c68-4628-99e3-f1382e215005": {
     "id": "b5adda7c-5c68-4628-99e3-f1382e215005",
     "prev": "a31aad1a-90b2-4986-90a4-c9311cad74dd",
     "regions": {
      "f5e741bb-9ac5-4237-99ef-cc381b24af9b": {
       "attrs": {
        "height": 0.8,
        "width": 0.8,
        "x": 0.1,
        "y": 0.1
       },
       "content": {
        "cell": "21ede77b-2951-486d-a3e4-3a6329e7ea4e",
        "part": "whole"
       },
       "id": "f5e741bb-9ac5-4237-99ef-cc381b24af9b"
      }
     }
    },
    "bfd324e8-2249-4a9f-8769-d91d885120f3": {
     "id": "bfd324e8-2249-4a9f-8769-d91d885120f3",
     "prev": "85c1cad7-374b-4982-9903-46c6a4a000e7",
     "regions": {
      "1fac72bb-bad3-43bf-b258-846390281d63": {
       "attrs": {
        "height": 0.8,
        "width": 0.8,
        "x": 0.1,
        "y": 0.1
       },
       "content": {
        "cell": "fe5f4a2b-74e4-47f0-8e7e-e234eb599bde",
        "part": "whole"
       },
       "id": "1fac72bb-bad3-43bf-b258-846390281d63"
      }
     }
    },
    "ce8113d1-426b-49e4-a86c-09cc3a9fc423": {
     "id": "ce8113d1-426b-49e4-a86c-09cc3a9fc423",
     "prev": "84b2e846-aa5b-465a-b4b3-289ba4659eaa",
     "regions": {
      "72698fe5-bc44-4bdc-bb7c-ae70114ef6a2": {
       "attrs": {
        "height": 0.8,
        "width": 0.8,
        "x": 0.1,
        "y": 0.1
       },
       "content": {
        "cell": "2cf3636f-2ed4-4483-a23a-fa08887b8057",
        "part": "whole"
       },
       "id": "72698fe5-bc44-4bdc-bb7c-ae70114ef6a2"
      }
     }
    },
    "d17dfc74-dc0c-43f6-80e9-e2e52ca67329": {
     "id": "d17dfc74-dc0c-43f6-80e9-e2e52ca67329",
     "prev": "07aaf511-4bf2-4682-9b65-f44d00cb5827",
     "regions": {
      "339975c6-90b0-4cb5-9150-b2f30a00888e": {
       "attrs": {
        "height": 0.8,
        "width": 0.8,
        "x": 0.1,
        "y": 0.1
       },
       "content": {
        "cell": "d9b11dd2-d5b1-40c8-8d2a-aa6f4f1b3f92",
        "part": "whole"
       },
       "id": "339975c6-90b0-4cb5-9150-b2f30a00888e"
      }
     }
    },
    "d716670a-7c5f-4d63-b005-8d0a03e75f19": {
     "id": "d716670a-7c5f-4d63-b005-8d0a03e75f19",
     "prev": "9bbeef03-d08e-49a5-a877-0fdeecfff068",
     "regions": {
      "2dbad65d-c2aa-434d-9e38-3f11c048281e": {
       "attrs": {
        "height": 0.8,
        "width": 0.8,
        "x": 0.1,
        "y": 0.1
       },
       "content": {
        "cell": "a75ac093-b494-485c-95c4-5e70dcc9eca3",
        "part": "whole"
       },
       "id": "2dbad65d-c2aa-434d-9e38-3f11c048281e"
      }
     }
    },
    "dcace905-d74b-4f17-b4ab-5366757966f3": {
     "id": "dcace905-d74b-4f17-b4ab-5366757966f3",
     "prev": "76493bcd-6d3c-4f5b-9240-3b090bdd4208",
     "regions": {
      "22c72e73-9223-4446-8a91-a8e4432a058d": {
       "attrs": {
        "height": 0.8,
        "width": 0.8,
        "x": 0.1,
        "y": 0.1
       },
       "content": {
        "cell": "7f3cd88c-b75a-4cb0-a747-5c4fb6dd9065",
        "part": "whole"
       },
       "id": "22c72e73-9223-4446-8a91-a8e4432a058d"
      }
     }
    },
    "dfa8fb0d-3639-416d-9223-02c4fa62a264": {
     "id": "dfa8fb0d-3639-416d-9223-02c4fa62a264",
     "prev": "b5adda7c-5c68-4628-99e3-f1382e215005",
     "regions": {
      "6414d282-a840-4a6c-bf51-6589cd2993c8": {
       "attrs": {
        "height": 0.8,
        "width": 0.8,
        "x": 0.1,
        "y": 0.1
       },
       "content": {
        "cell": "4bf406c7-93f7-48aa-92f3-ce705f31e61e",
        "part": "whole"
       },
       "id": "6414d282-a840-4a6c-bf51-6589cd2993c8"
      }
     }
    },
    "e5b6304a-fa1f-4268-b367-58f5a66960b1": {
     "id": "e5b6304a-fa1f-4268-b367-58f5a66960b1",
     "prev": "d716670a-7c5f-4d63-b005-8d0a03e75f19",
     "regions": {
      "0a9587ae-67ac-4b1a-86cb-bf1bfa1f2f74": {
       "attrs": {
        "height": 0.8,
        "width": 0.8,
        "x": 0.1,
        "y": 0.1
       },
       "content": {
        "cell": "1d3feb88-37bc-402f-820b-084ba8e36515",
        "part": "whole"
       },
       "id": "0a9587ae-67ac-4b1a-86cb-bf1bfa1f2f74"
      }
     }
    },
    "e6783487-9de6-4b0c-aeb3-93704683f4ee": {
     "id": "e6783487-9de6-4b0c-aeb3-93704683f4ee",
     "prev": "61933792-42f2-45a8-8a49-32488b37381a",
     "regions": {
      "0ad18101-d371-4b5c-bd82-388a8058a9d5": {
       "attrs": {
        "height": 0.8,
        "width": 0.8,
        "x": 0.1,
        "y": 0.1
       },
       "content": {
        "cell": "def245ac-6e9d-4ca9-bc91-648be142661d",
        "part": "whole"
       },
       "id": "0ad18101-d371-4b5c-bd82-388a8058a9d5"
      }
     }
    },
    "e9e11781-c2b0-4328-984c-9c056c36d6de": {
     "id": "e9e11781-c2b0-4328-984c-9c056c36d6de",
     "prev": "7ce92892-7e9a-4987-9d2d-65c66f8fccd9",
     "regions": {
      "2506cead-1153-4a32-a8bc-8d8e9b95cfcf": {
       "attrs": {
        "height": 0.8,
        "width": 0.8,
        "x": 0.1,
        "y": 0.1
       },
       "content": {
        "cell": "7ad7cf78-bbae-46a1-a60e-e56eec75e8bd",
        "part": "whole"
       },
       "id": "2506cead-1153-4a32-a8bc-8d8e9b95cfcf"
      }
     }
    },
    "ed023dc9-8462-419a-a02d-b2501c3306ad": {
     "id": "ed023dc9-8462-419a-a02d-b2501c3306ad",
     "prev": "dfa8fb0d-3639-416d-9223-02c4fa62a264",
     "regions": {
      "e9a460eb-f873-4a08-b6f4-4f23388e51dd": {
       "attrs": {
        "height": 0.8,
        "width": 0.8,
        "x": 0.1,
        "y": 0.1
       },
       "content": {
        "cell": "f78c5910-abdc-420a-b73a-1482bf978e96",
        "part": "whole"
       },
       "id": "e9a460eb-f873-4a08-b6f4-4f23388e51dd"
      }
     }
    },
    "f1d862e6-8038-40c8-a7d4-db2e7378a04e": {
     "id": "f1d862e6-8038-40c8-a7d4-db2e7378a04e",
     "prev": "460ab58d-b445-49e9-92ac-988c04acf487",
     "regions": {
      "5aa21922-6a5d-4a39-8846-aafadde87164": {
       "attrs": {
        "height": 0.8,
        "width": 0.8,
        "x": 0.1,
        "y": 0.1
       },
       "content": {
        "cell": "c2dc7e6e-565d-4c56-93da-fca875b822d1",
        "part": "whole"
       },
       "id": "5aa21922-6a5d-4a39-8846-aafadde87164"
      }
     }
    },
    "f42ebc3b-73ec-4b07-8516-af13109d30ea": {
     "id": "f42ebc3b-73ec-4b07-8516-af13109d30ea",
     "prev": "7d0fcf8d-8dd9-483a-9a69-2b0d8c681083",
     "regions": {
      "78a67669-2292-4dd0-8b6a-d657d2ae04e3": {
       "attrs": {
        "height": 0.8,
        "width": 0.8,
        "x": 0.1,
        "y": 0.1
       },
       "content": {
        "cell": "a947ac19-d102-4ec9-98fa-f823dc32175b",
        "part": "whole"
       },
       "id": "78a67669-2292-4dd0-8b6a-d657d2ae04e3"
      }
     }
    },
    "f6dd6ec6-2e34-4e00-8540-9c3064edf5fb": {
     "id": "f6dd6ec6-2e34-4e00-8540-9c3064edf5fb",
     "prev": "bfd324e8-2249-4a9f-8769-d91d885120f3",
     "regions": {
      "6998c7d6-652c-45e6-bd0d-9d24482328b0": {
       "attrs": {
        "height": 0.8,
        "width": 0.8,
        "x": 0.1,
        "y": 0.1
       },
       "content": {
        "cell": "c4584095-d4ba-43f0-834d-aaa96c1f724d",
        "part": "whole"
       },
       "id": "6998c7d6-652c-45e6-bd0d-9d24482328b0"
      }
     }
    },
    "fe9bc446-bb60-499e-96fc-d99631d9b8d2": {
     "id": "fe9bc446-bb60-499e-96fc-d99631d9b8d2",
     "prev": "a818f54d-a09f-45b4-99c9-f67d152ac9b9",
     "regions": {
      "657fb1e1-6bbe-48f1-895f-d4388a12c8a1": {
       "attrs": {
        "height": 0.8,
        "width": 0.8,
        "x": 0.1,
        "y": 0.1
       },
       "content": {
        "cell": "1c3a6226-4640-4a36-9f58-0e76d47142dc",
        "part": "whole"
       },
       "id": "657fb1e1-6bbe-48f1-895f-d4388a12c8a1"
      }
     }
    }
   },
   "themes": {}
  }
 },
 "nbformat": 4,
 "nbformat_minor": 0
}
